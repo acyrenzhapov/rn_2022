{
 "cells": [
  {
   "cell_type": "markdown",
   "id": "6ac66330",
   "metadata": {},
   "source": [
    "![alt text](rosneft/Screenshot_1.png \"Title\")\n",
    "![alt text](rosneft/Screenshot_2.png \"Title\")\n",
    "![alt text](rosneft/Screenshot_3.png \"Title\")\n",
    "![alt text](rosneft/Screenshot_4.png \"Title\")\n",
    "![alt text](rosneft/Screenshot_5.png \"Title\")\n",
    "![alt text](rosneft/Screenshot_6.png \"Title\")\n",
    "![alt text](rosneft/Screenshot_7.png \"Title\")\n",
    "![alt text](rosneft/Screenshot_8.png \"Title\")\n",
    "![alt text](rosneft/Screenshot_167.png \"Title\")"
   ]
  },
  {
   "cell_type": "code",
   "execution_count": null,
   "id": "5ce54239",
   "metadata": {},
   "outputs": [],
   "source": []
  }
 ],
 "metadata": {
  "kernelspec": {
   "display_name": "Python 3 (ipykernel)",
   "language": "python",
   "name": "python3"
  },
  "language_info": {
   "codemirror_mode": {
    "name": "ipython",
    "version": 3
   },
   "file_extension": ".py",
   "mimetype": "text/x-python",
   "name": "python",
   "nbconvert_exporter": "python",
   "pygments_lexer": "ipython3",
   "version": "3.9.7"
  }
 },
 "nbformat": 4,
 "nbformat_minor": 5
}
