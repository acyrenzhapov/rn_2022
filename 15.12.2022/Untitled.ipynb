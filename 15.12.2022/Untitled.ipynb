{
 "cells": [
  {
   "cell_type": "code",
   "execution_count": null,
   "id": "425318af",
   "metadata": {},
   "outputs": [],
   "source": [
    "https://docs.google.com/document/d/10L8VS7p8s1l6hKs50TYNIXqU8ApBBuLdRGDZLV0S_LA/edit#"
   ]
  },
  {
   "cell_type": "code",
   "execution_count": null,
   "id": "347b0859",
   "metadata": {},
   "outputs": [],
   "source": [
    "https://docs.google.com/spreadsheets/d/1M5r7CmYj7Lpj-gdy15VuNXA9mi0Fb7zSnhsaeeIZ1-M/edit#gid=0"
   ]
  }
 ],
 "metadata": {
  "kernelspec": {
   "display_name": "Python 3 (ipykernel)",
   "language": "python",
   "name": "python3"
  },
  "language_info": {
   "codemirror_mode": {
    "name": "ipython",
    "version": 3
   },
   "file_extension": ".py",
   "mimetype": "text/x-python",
   "name": "python",
   "nbconvert_exporter": "python",
   "pygments_lexer": "ipython3",
   "version": "3.9.7"
  }
 },
 "nbformat": 4,
 "nbformat_minor": 5
}
