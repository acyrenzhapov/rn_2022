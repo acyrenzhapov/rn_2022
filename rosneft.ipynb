{
  "nbformat": 4,
  "nbformat_minor": 0,
  "metadata": {
    "colab": {
      "provenance": []
    },
    "kernelspec": {
      "name": "python3",
      "display_name": "Python 3"
    },
    "language_info": {
      "name": "python"
    },
    "accelerator": "GPU",
    "gpuClass": "standard",
    "widgets": {
      "application/vnd.jupyter.widget-state+json": {
        "3e010937b8cc45ca83f623e7a391516f": {
          "model_module": "@jupyter-widgets/controls",
          "model_name": "HBoxModel",
          "model_module_version": "1.5.0",
          "state": {
            "_dom_classes": [],
            "_model_module": "@jupyter-widgets/controls",
            "_model_module_version": "1.5.0",
            "_model_name": "HBoxModel",
            "_view_count": null,
            "_view_module": "@jupyter-widgets/controls",
            "_view_module_version": "1.5.0",
            "_view_name": "HBoxView",
            "box_style": "",
            "children": [
              "IPY_MODEL_2b513e08a46e45049a036832060f7dab",
              "IPY_MODEL_dc239ac714234e17862d9e1760b38186",
              "IPY_MODEL_fb7aedb6b89b41ee8f8ed3adf05026a6"
            ],
            "layout": "IPY_MODEL_a1406cbec8da48c9a813c4e4213c1a45"
          }
        },
        "2b513e08a46e45049a036832060f7dab": {
          "model_module": "@jupyter-widgets/controls",
          "model_name": "HTMLModel",
          "model_module_version": "1.5.0",
          "state": {
            "_dom_classes": [],
            "_model_module": "@jupyter-widgets/controls",
            "_model_module_version": "1.5.0",
            "_model_name": "HTMLModel",
            "_view_count": null,
            "_view_module": "@jupyter-widgets/controls",
            "_view_module_version": "1.5.0",
            "_view_name": "HTMLView",
            "description": "",
            "description_tooltip": null,
            "layout": "IPY_MODEL_3becf6b80cea49fab307b95f98cb1e5f",
            "placeholder": "​",
            "style": "IPY_MODEL_22b636903a0f4e088d3801c7e44bf916",
            "value": "Epoch 9: 100%"
          }
        },
        "dc239ac714234e17862d9e1760b38186": {
          "model_module": "@jupyter-widgets/controls",
          "model_name": "FloatProgressModel",
          "model_module_version": "1.5.0",
          "state": {
            "_dom_classes": [],
            "_model_module": "@jupyter-widgets/controls",
            "_model_module_version": "1.5.0",
            "_model_name": "FloatProgressModel",
            "_view_count": null,
            "_view_module": "@jupyter-widgets/controls",
            "_view_module_version": "1.5.0",
            "_view_name": "ProgressView",
            "bar_style": "success",
            "description": "",
            "description_tooltip": null,
            "layout": "IPY_MODEL_6c8ca3de214346028eae91d777a90540",
            "max": 100,
            "min": 0,
            "orientation": "horizontal",
            "style": "IPY_MODEL_3ebcf99208b84f6c9b3d3e8c92ce533c",
            "value": 100
          }
        },
        "fb7aedb6b89b41ee8f8ed3adf05026a6": {
          "model_module": "@jupyter-widgets/controls",
          "model_name": "HTMLModel",
          "model_module_version": "1.5.0",
          "state": {
            "_dom_classes": [],
            "_model_module": "@jupyter-widgets/controls",
            "_model_module_version": "1.5.0",
            "_model_name": "HTMLModel",
            "_view_count": null,
            "_view_module": "@jupyter-widgets/controls",
            "_view_module_version": "1.5.0",
            "_view_name": "HTMLView",
            "description": "",
            "description_tooltip": null,
            "layout": "IPY_MODEL_021a3fb394094937bc34557f793d7b3a",
            "placeholder": "​",
            "style": "IPY_MODEL_7aecbf8f75d4407b9b050e5deb48c198",
            "value": " 100/100 [00:25&lt;00:00,  3.88it/s, loss=1.03, v_num=1]"
          }
        },
        "a1406cbec8da48c9a813c4e4213c1a45": {
          "model_module": "@jupyter-widgets/base",
          "model_name": "LayoutModel",
          "model_module_version": "1.2.0",
          "state": {
            "_model_module": "@jupyter-widgets/base",
            "_model_module_version": "1.2.0",
            "_model_name": "LayoutModel",
            "_view_count": null,
            "_view_module": "@jupyter-widgets/base",
            "_view_module_version": "1.2.0",
            "_view_name": "LayoutView",
            "align_content": null,
            "align_items": null,
            "align_self": null,
            "border": null,
            "bottom": null,
            "display": "inline-flex",
            "flex": null,
            "flex_flow": "row wrap",
            "grid_area": null,
            "grid_auto_columns": null,
            "grid_auto_flow": null,
            "grid_auto_rows": null,
            "grid_column": null,
            "grid_gap": null,
            "grid_row": null,
            "grid_template_areas": null,
            "grid_template_columns": null,
            "grid_template_rows": null,
            "height": null,
            "justify_content": null,
            "justify_items": null,
            "left": null,
            "margin": null,
            "max_height": null,
            "max_width": null,
            "min_height": null,
            "min_width": null,
            "object_fit": null,
            "object_position": null,
            "order": null,
            "overflow": null,
            "overflow_x": null,
            "overflow_y": null,
            "padding": null,
            "right": null,
            "top": null,
            "visibility": null,
            "width": "100%"
          }
        },
        "3becf6b80cea49fab307b95f98cb1e5f": {
          "model_module": "@jupyter-widgets/base",
          "model_name": "LayoutModel",
          "model_module_version": "1.2.0",
          "state": {
            "_model_module": "@jupyter-widgets/base",
            "_model_module_version": "1.2.0",
            "_model_name": "LayoutModel",
            "_view_count": null,
            "_view_module": "@jupyter-widgets/base",
            "_view_module_version": "1.2.0",
            "_view_name": "LayoutView",
            "align_content": null,
            "align_items": null,
            "align_self": null,
            "border": null,
            "bottom": null,
            "display": null,
            "flex": null,
            "flex_flow": null,
            "grid_area": null,
            "grid_auto_columns": null,
            "grid_auto_flow": null,
            "grid_auto_rows": null,
            "grid_column": null,
            "grid_gap": null,
            "grid_row": null,
            "grid_template_areas": null,
            "grid_template_columns": null,
            "grid_template_rows": null,
            "height": null,
            "justify_content": null,
            "justify_items": null,
            "left": null,
            "margin": null,
            "max_height": null,
            "max_width": null,
            "min_height": null,
            "min_width": null,
            "object_fit": null,
            "object_position": null,
            "order": null,
            "overflow": null,
            "overflow_x": null,
            "overflow_y": null,
            "padding": null,
            "right": null,
            "top": null,
            "visibility": null,
            "width": null
          }
        },
        "22b636903a0f4e088d3801c7e44bf916": {
          "model_module": "@jupyter-widgets/controls",
          "model_name": "DescriptionStyleModel",
          "model_module_version": "1.5.0",
          "state": {
            "_model_module": "@jupyter-widgets/controls",
            "_model_module_version": "1.5.0",
            "_model_name": "DescriptionStyleModel",
            "_view_count": null,
            "_view_module": "@jupyter-widgets/base",
            "_view_module_version": "1.2.0",
            "_view_name": "StyleView",
            "description_width": ""
          }
        },
        "6c8ca3de214346028eae91d777a90540": {
          "model_module": "@jupyter-widgets/base",
          "model_name": "LayoutModel",
          "model_module_version": "1.2.0",
          "state": {
            "_model_module": "@jupyter-widgets/base",
            "_model_module_version": "1.2.0",
            "_model_name": "LayoutModel",
            "_view_count": null,
            "_view_module": "@jupyter-widgets/base",
            "_view_module_version": "1.2.0",
            "_view_name": "LayoutView",
            "align_content": null,
            "align_items": null,
            "align_self": null,
            "border": null,
            "bottom": null,
            "display": null,
            "flex": "2",
            "flex_flow": null,
            "grid_area": null,
            "grid_auto_columns": null,
            "grid_auto_flow": null,
            "grid_auto_rows": null,
            "grid_column": null,
            "grid_gap": null,
            "grid_row": null,
            "grid_template_areas": null,
            "grid_template_columns": null,
            "grid_template_rows": null,
            "height": null,
            "justify_content": null,
            "justify_items": null,
            "left": null,
            "margin": null,
            "max_height": null,
            "max_width": null,
            "min_height": null,
            "min_width": null,
            "object_fit": null,
            "object_position": null,
            "order": null,
            "overflow": null,
            "overflow_x": null,
            "overflow_y": null,
            "padding": null,
            "right": null,
            "top": null,
            "visibility": null,
            "width": null
          }
        },
        "3ebcf99208b84f6c9b3d3e8c92ce533c": {
          "model_module": "@jupyter-widgets/controls",
          "model_name": "ProgressStyleModel",
          "model_module_version": "1.5.0",
          "state": {
            "_model_module": "@jupyter-widgets/controls",
            "_model_module_version": "1.5.0",
            "_model_name": "ProgressStyleModel",
            "_view_count": null,
            "_view_module": "@jupyter-widgets/base",
            "_view_module_version": "1.2.0",
            "_view_name": "StyleView",
            "bar_color": null,
            "description_width": ""
          }
        },
        "021a3fb394094937bc34557f793d7b3a": {
          "model_module": "@jupyter-widgets/base",
          "model_name": "LayoutModel",
          "model_module_version": "1.2.0",
          "state": {
            "_model_module": "@jupyter-widgets/base",
            "_model_module_version": "1.2.0",
            "_model_name": "LayoutModel",
            "_view_count": null,
            "_view_module": "@jupyter-widgets/base",
            "_view_module_version": "1.2.0",
            "_view_name": "LayoutView",
            "align_content": null,
            "align_items": null,
            "align_self": null,
            "border": null,
            "bottom": null,
            "display": null,
            "flex": null,
            "flex_flow": null,
            "grid_area": null,
            "grid_auto_columns": null,
            "grid_auto_flow": null,
            "grid_auto_rows": null,
            "grid_column": null,
            "grid_gap": null,
            "grid_row": null,
            "grid_template_areas": null,
            "grid_template_columns": null,
            "grid_template_rows": null,
            "height": null,
            "justify_content": null,
            "justify_items": null,
            "left": null,
            "margin": null,
            "max_height": null,
            "max_width": null,
            "min_height": null,
            "min_width": null,
            "object_fit": null,
            "object_position": null,
            "order": null,
            "overflow": null,
            "overflow_x": null,
            "overflow_y": null,
            "padding": null,
            "right": null,
            "top": null,
            "visibility": null,
            "width": null
          }
        },
        "7aecbf8f75d4407b9b050e5deb48c198": {
          "model_module": "@jupyter-widgets/controls",
          "model_name": "DescriptionStyleModel",
          "model_module_version": "1.5.0",
          "state": {
            "_model_module": "@jupyter-widgets/controls",
            "_model_module_version": "1.5.0",
            "_model_name": "DescriptionStyleModel",
            "_view_count": null,
            "_view_module": "@jupyter-widgets/base",
            "_view_module_version": "1.2.0",
            "_view_name": "StyleView",
            "description_width": ""
          }
        }
      }
    }
  },
  "cells": [
    {
      "cell_type": "code",
      "source": [
        "!pip install torchmetrics\n",
        "!pip install pytorch-lightning"
      ],
      "metadata": {
        "colab": {
          "base_uri": "https://localhost:8080/"
        },
        "id": "_Sv7fZyTsced",
        "outputId": "865dc058-18c3-4c28-9977-ed3c6f537a48"
      },
      "execution_count": null,
      "outputs": [
        {
          "output_type": "stream",
          "name": "stdout",
          "text": [
            "Looking in indexes: https://pypi.org/simple, https://us-python.pkg.dev/colab-wheels/public/simple/\n",
            "Collecting torchmetrics\n",
            "  Downloading torchmetrics-0.10.2-py3-none-any.whl (529 kB)\n",
            "\u001b[K     |████████████████████████████████| 529 kB 4.6 MB/s \n",
            "\u001b[?25hRequirement already satisfied: packaging in /usr/local/lib/python3.7/dist-packages (from torchmetrics) (21.3)\n",
            "Requirement already satisfied: numpy>=1.17.2 in /usr/local/lib/python3.7/dist-packages (from torchmetrics) (1.21.6)\n",
            "Requirement already satisfied: torch>=1.3.1 in /usr/local/lib/python3.7/dist-packages (from torchmetrics) (1.12.1+cu113)\n",
            "Requirement already satisfied: typing-extensions in /usr/local/lib/python3.7/dist-packages (from torchmetrics) (4.1.1)\n",
            "Requirement already satisfied: pyparsing!=3.0.5,>=2.0.2 in /usr/local/lib/python3.7/dist-packages (from packaging->torchmetrics) (3.0.9)\n",
            "Installing collected packages: torchmetrics\n",
            "Successfully installed torchmetrics-0.10.2\n",
            "Looking in indexes: https://pypi.org/simple, https://us-python.pkg.dev/colab-wheels/public/simple/\n",
            "Collecting pytorch-lightning\n",
            "  Downloading pytorch_lightning-1.8.1-py3-none-any.whl (798 kB)\n",
            "\u001b[K     |████████████████████████████████| 798 kB 4.6 MB/s \n",
            "\u001b[?25hRequirement already satisfied: packaging>=17.0 in /usr/local/lib/python3.7/dist-packages (from pytorch-lightning) (21.3)\n",
            "Requirement already satisfied: tensorboard>=2.9.1 in /usr/local/lib/python3.7/dist-packages (from pytorch-lightning) (2.9.1)\n",
            "Requirement already satisfied: typing-extensions>=4.0.0 in /usr/local/lib/python3.7/dist-packages (from pytorch-lightning) (4.1.1)\n",
            "Requirement already satisfied: torchmetrics>=0.7.0 in /usr/local/lib/python3.7/dist-packages (from pytorch-lightning) (0.10.2)\n",
            "Requirement already satisfied: tqdm>=4.57.0 in /usr/local/lib/python3.7/dist-packages (from pytorch-lightning) (4.64.1)\n",
            "Requirement already satisfied: numpy>=1.17.2 in /usr/local/lib/python3.7/dist-packages (from pytorch-lightning) (1.21.6)\n",
            "Requirement already satisfied: fsspec[http]>2021.06.0 in /usr/local/lib/python3.7/dist-packages (from pytorch-lightning) (2022.10.0)\n",
            "Requirement already satisfied: PyYAML>=5.4 in /usr/local/lib/python3.7/dist-packages (from pytorch-lightning) (6.0)\n",
            "Collecting lightning-utilities==0.3.*\n",
            "  Downloading lightning_utilities-0.3.0-py3-none-any.whl (15 kB)\n",
            "Requirement already satisfied: torch>=1.9.* in /usr/local/lib/python3.7/dist-packages (from pytorch-lightning) (1.12.1+cu113)\n",
            "Collecting fire\n",
            "  Downloading fire-0.4.0.tar.gz (87 kB)\n",
            "\u001b[K     |████████████████████████████████| 87 kB 8.4 MB/s \n",
            "\u001b[?25hRequirement already satisfied: requests in /usr/local/lib/python3.7/dist-packages (from fsspec[http]>2021.06.0->pytorch-lightning) (2.23.0)\n",
            "Requirement already satisfied: aiohttp!=4.0.0a0,!=4.0.0a1 in /usr/local/lib/python3.7/dist-packages (from fsspec[http]>2021.06.0->pytorch-lightning) (3.8.3)\n",
            "Requirement already satisfied: attrs>=17.3.0 in /usr/local/lib/python3.7/dist-packages (from aiohttp!=4.0.0a0,!=4.0.0a1->fsspec[http]>2021.06.0->pytorch-lightning) (22.1.0)\n",
            "Requirement already satisfied: aiosignal>=1.1.2 in /usr/local/lib/python3.7/dist-packages (from aiohttp!=4.0.0a0,!=4.0.0a1->fsspec[http]>2021.06.0->pytorch-lightning) (1.3.1)\n",
            "Requirement already satisfied: yarl<2.0,>=1.0 in /usr/local/lib/python3.7/dist-packages (from aiohttp!=4.0.0a0,!=4.0.0a1->fsspec[http]>2021.06.0->pytorch-lightning) (1.8.1)\n",
            "Requirement already satisfied: async-timeout<5.0,>=4.0.0a3 in /usr/local/lib/python3.7/dist-packages (from aiohttp!=4.0.0a0,!=4.0.0a1->fsspec[http]>2021.06.0->pytorch-lightning) (4.0.2)\n",
            "Requirement already satisfied: asynctest==0.13.0 in /usr/local/lib/python3.7/dist-packages (from aiohttp!=4.0.0a0,!=4.0.0a1->fsspec[http]>2021.06.0->pytorch-lightning) (0.13.0)\n",
            "Requirement already satisfied: charset-normalizer<3.0,>=2.0 in /usr/local/lib/python3.7/dist-packages (from aiohttp!=4.0.0a0,!=4.0.0a1->fsspec[http]>2021.06.0->pytorch-lightning) (2.1.1)\n",
            "Requirement already satisfied: frozenlist>=1.1.1 in /usr/local/lib/python3.7/dist-packages (from aiohttp!=4.0.0a0,!=4.0.0a1->fsspec[http]>2021.06.0->pytorch-lightning) (1.3.3)\n",
            "Requirement already satisfied: multidict<7.0,>=4.5 in /usr/local/lib/python3.7/dist-packages (from aiohttp!=4.0.0a0,!=4.0.0a1->fsspec[http]>2021.06.0->pytorch-lightning) (6.0.2)\n",
            "Requirement already satisfied: pyparsing!=3.0.5,>=2.0.2 in /usr/local/lib/python3.7/dist-packages (from packaging>=17.0->pytorch-lightning) (3.0.9)\n",
            "Requirement already satisfied: wheel>=0.26 in /usr/local/lib/python3.7/dist-packages (from tensorboard>=2.9.1->pytorch-lightning) (0.38.3)\n",
            "Requirement already satisfied: setuptools>=41.0.0 in /usr/local/lib/python3.7/dist-packages (from tensorboard>=2.9.1->pytorch-lightning) (57.4.0)\n",
            "Requirement already satisfied: google-auth<3,>=1.6.3 in /usr/local/lib/python3.7/dist-packages (from tensorboard>=2.9.1->pytorch-lightning) (2.14.1)\n",
            "Requirement already satisfied: werkzeug>=1.0.1 in /usr/local/lib/python3.7/dist-packages (from tensorboard>=2.9.1->pytorch-lightning) (1.0.1)\n",
            "Requirement already satisfied: grpcio>=1.24.3 in /usr/local/lib/python3.7/dist-packages (from tensorboard>=2.9.1->pytorch-lightning) (1.50.0)\n",
            "Requirement already satisfied: tensorboard-plugin-wit>=1.6.0 in /usr/local/lib/python3.7/dist-packages (from tensorboard>=2.9.1->pytorch-lightning) (1.8.1)\n",
            "Requirement already satisfied: protobuf<3.20,>=3.9.2 in /usr/local/lib/python3.7/dist-packages (from tensorboard>=2.9.1->pytorch-lightning) (3.19.6)\n",
            "Requirement already satisfied: tensorboard-data-server<0.7.0,>=0.6.0 in /usr/local/lib/python3.7/dist-packages (from tensorboard>=2.9.1->pytorch-lightning) (0.6.1)\n",
            "Requirement already satisfied: google-auth-oauthlib<0.5,>=0.4.1 in /usr/local/lib/python3.7/dist-packages (from tensorboard>=2.9.1->pytorch-lightning) (0.4.6)\n",
            "Requirement already satisfied: absl-py>=0.4 in /usr/local/lib/python3.7/dist-packages (from tensorboard>=2.9.1->pytorch-lightning) (1.3.0)\n",
            "Requirement already satisfied: markdown>=2.6.8 in /usr/local/lib/python3.7/dist-packages (from tensorboard>=2.9.1->pytorch-lightning) (3.4.1)\n",
            "Requirement already satisfied: six>=1.9.0 in /usr/local/lib/python3.7/dist-packages (from google-auth<3,>=1.6.3->tensorboard>=2.9.1->pytorch-lightning) (1.15.0)\n",
            "Requirement already satisfied: pyasn1-modules>=0.2.1 in /usr/local/lib/python3.7/dist-packages (from google-auth<3,>=1.6.3->tensorboard>=2.9.1->pytorch-lightning) (0.2.8)\n",
            "Requirement already satisfied: rsa<5,>=3.1.4 in /usr/local/lib/python3.7/dist-packages (from google-auth<3,>=1.6.3->tensorboard>=2.9.1->pytorch-lightning) (4.9)\n",
            "Requirement already satisfied: cachetools<6.0,>=2.0.0 in /usr/local/lib/python3.7/dist-packages (from google-auth<3,>=1.6.3->tensorboard>=2.9.1->pytorch-lightning) (5.2.0)\n",
            "Requirement already satisfied: requests-oauthlib>=0.7.0 in /usr/local/lib/python3.7/dist-packages (from google-auth-oauthlib<0.5,>=0.4.1->tensorboard>=2.9.1->pytorch-lightning) (1.3.1)\n",
            "Requirement already satisfied: importlib-metadata>=4.4 in /usr/local/lib/python3.7/dist-packages (from markdown>=2.6.8->tensorboard>=2.9.1->pytorch-lightning) (4.13.0)\n",
            "Requirement already satisfied: zipp>=0.5 in /usr/local/lib/python3.7/dist-packages (from importlib-metadata>=4.4->markdown>=2.6.8->tensorboard>=2.9.1->pytorch-lightning) (3.10.0)\n",
            "Requirement already satisfied: pyasn1<0.5.0,>=0.4.6 in /usr/local/lib/python3.7/dist-packages (from pyasn1-modules>=0.2.1->google-auth<3,>=1.6.3->tensorboard>=2.9.1->pytorch-lightning) (0.4.8)\n",
            "Requirement already satisfied: idna<3,>=2.5 in /usr/local/lib/python3.7/dist-packages (from requests->fsspec[http]>2021.06.0->pytorch-lightning) (2.10)\n",
            "Requirement already satisfied: chardet<4,>=3.0.2 in /usr/local/lib/python3.7/dist-packages (from requests->fsspec[http]>2021.06.0->pytorch-lightning) (3.0.4)\n",
            "Requirement already satisfied: certifi>=2017.4.17 in /usr/local/lib/python3.7/dist-packages (from requests->fsspec[http]>2021.06.0->pytorch-lightning) (2022.9.24)\n",
            "Requirement already satisfied: urllib3!=1.25.0,!=1.25.1,<1.26,>=1.21.1 in /usr/local/lib/python3.7/dist-packages (from requests->fsspec[http]>2021.06.0->pytorch-lightning) (1.24.3)\n",
            "Requirement already satisfied: oauthlib>=3.0.0 in /usr/local/lib/python3.7/dist-packages (from requests-oauthlib>=0.7.0->google-auth-oauthlib<0.5,>=0.4.1->tensorboard>=2.9.1->pytorch-lightning) (3.2.2)\n",
            "Requirement already satisfied: termcolor in /usr/local/lib/python3.7/dist-packages (from fire->lightning-utilities==0.3.*->pytorch-lightning) (2.1.0)\n",
            "Building wheels for collected packages: fire\n",
            "  Building wheel for fire (setup.py) ... \u001b[?25l\u001b[?25hdone\n",
            "  Created wheel for fire: filename=fire-0.4.0-py2.py3-none-any.whl size=115940 sha256=a2126e75041fcd7f6bdc9bdf32c4f353258fac4b2833f3d1a5d48da8aa377fb8\n",
            "  Stored in directory: /root/.cache/pip/wheels/8a/67/fb/2e8a12fa16661b9d5af1f654bd199366799740a85c64981226\n",
            "Successfully built fire\n",
            "Installing collected packages: fire, lightning-utilities, pytorch-lightning\n",
            "Successfully installed fire-0.4.0 lightning-utilities-0.3.0 pytorch-lightning-1.8.1\n"
          ]
        }
      ]
    },
    {
      "cell_type": "code",
      "source": [
        "from torch.utils.data import Dataset, DataLoader\n",
        "import torch.optim as optim\n",
        "import pytorch_lightning as pl\n",
        "import torchmetrics\n",
        "\n",
        "import sys\n",
        "import gc\n",
        "\n",
        "import torch\n",
        "import torch.nn as nn\n",
        "import torch.nn.functional as F\n",
        "from torch.autograd import Variable\n",
        "\n",
        "import os\n",
        "import numpy as np\n",
        "import torchvision.transforms as transforms\n",
        "\n",
        "import matplotlib.pyplot as plt\n",
        "import random"
      ],
      "metadata": {
        "id": "T6LtKykOsekW"
      },
      "execution_count": null,
      "outputs": []
    },
    {
      "cell_type": "code",
      "source": [
        "from google.colab import drive\n",
        "drive.mount('/content/drive')"
      ],
      "metadata": {
        "colab": {
          "base_uri": "https://localhost:8080/"
        },
        "id": "H8enYIsisfk_",
        "outputId": "0c260de5-4f04-4e7c-914f-57b9f358e3a6"
      },
      "execution_count": null,
      "outputs": [
        {
          "output_type": "stream",
          "name": "stdout",
          "text": [
            "Mounted at /content/drive\n"
          ]
        }
      ]
    },
    {
      "cell_type": "code",
      "source": [
        "class SegYDataset(Dataset):\n",
        "    def __init__(self, length = 100, size = 64, percentage_density=10, density_value = None):\n",
        "        self.fault_data = np.load('/content/drive/MyDrive/real_data/reduced_fault_data.npy')\n",
        "        self.seis_data = np.load('/content/drive/MyDrive/real_data/reduced_seis_data.npy')\n",
        "        self.length = length\n",
        "        self.size = size\n",
        "        self.percentage_density = percentage_density\n",
        "        self.density_value = density_value if density_value is not None else ((size ** 3) * percentage_density) // 100\n",
        "    \n",
        "    def __len__(self):\n",
        "        return self.length\n",
        "    \n",
        "    def __getitem__(self, idx):\n",
        "        IL, XL, Z = self.seis_data.shape\n",
        "        while True:\n",
        "            iline = random.randint(0, IL - self.size)\n",
        "            xline = random.randint(0, XL - self.size)\n",
        "            zline = random.randint(0, Z - self.size)\n",
        "            fault_slice = self.fault_data[iline: iline+self.size,\n",
        "                                          xline: xline+self.size,\n",
        "                                          zline: zline+self.size]\n",
        "            if fault_slice.sum() > self.density_value:\n",
        "                seis_slice = self.seis_data[iline: iline+self.size,\n",
        "                                            xline: xline+self.size,\n",
        "                                            zline: zline+self.size]\n",
        "                X = torch.Tensor(seis_slice)\n",
        "                Y = torch.Tensor(fault_slice)\n",
        "                return (X[None,:], Y[None, :])\n",
        "                "
      ],
      "metadata": {
        "id": "C44Bi_AJsmlZ"
      },
      "execution_count": null,
      "outputs": []
    },
    {
      "cell_type": "code",
      "source": [
        "train_dataset = SegYDataset(100, 64, 10)\n",
        "trainloader = DataLoader(train_dataset, batch_size=1)"
      ],
      "metadata": {
        "id": "xG30093jssHU"
      },
      "execution_count": null,
      "outputs": []
    },
    {
      "cell_type": "code",
      "source": [
        "class UNet3D_512(nn.Module):\n",
        "    def __init__(self):\n",
        "        super(UNet3D_512, self).__init__()\n",
        "        \n",
        "        self.layer_encoder_1 = self.__get_encoder_layer(1, 32, kernel_size=3, stride=1, padding=1)\n",
        "        self.layer_encoder_2 = self.__get_encoder_layer(32, 64, kernel_size=3, stride=1, padding=1)\n",
        "\n",
        "        self.layer_encoder_3 = self.__get_encoder_layer(64, 64, kernel_size=3, stride=1, padding=1)\n",
        "        self.layer_encoder_4 = self.__get_encoder_layer(64, 128, kernel_size=3, stride=1, padding=1)\n",
        "        \n",
        "        self.layer_encoder_5 = self.__get_encoder_layer(128, 128, kernel_size=3, stride=1, padding=1)\n",
        "        self.layer_encoder_6 = self.__get_encoder_layer(128, 256, kernel_size=3, stride=1, padding=1)\n",
        "        \n",
        "        self.layer_encoder_7 = self.__get_encoder_layer(256, 256, kernel_size=3, stride=1, padding=1)\n",
        "        self.layer_encoder_8 = self.__get_encoder_layer(256, 512, kernel_size=3, stride=1, padding=1)\n",
        "        \n",
        "        self.max_pool_1 = nn.MaxPool3d(2)\n",
        "        self.max_pool_2 = nn.MaxPool3d(2)\n",
        "        self.max_pool_3 = nn.MaxPool3d(2)\n",
        "        \n",
        "        self.layer_decoder_1 = self.__get_decoder_layer(512, 512, kernel_size=2, stride=2)\n",
        "        self.layer_decoder_2 = self.__get_encoder_layer(256 + 512, 256, kernel_size=3, stride=1, padding=1)\n",
        "        self.layer_decoder_3 = self.__get_encoder_layer(256, 256, kernel_size=3, stride=1, padding=1)\n",
        "        \n",
        "        self.layer_decoder_4 = self.__get_decoder_layer(256, 256, kernel_size=2, stride=2)\n",
        "        self.layer_decoder_5 = self.__get_encoder_layer(128 + 256, 128, kernel_size=3, stride=1, padding=1)\n",
        "        self.layer_decoder_6 = self.__get_encoder_layer(128, 128, kernel_size=3, stride=1, padding=1)\n",
        "        \n",
        "        self.layer_decoder_7 = self.__get_decoder_layer(128, 128, kernel_size=2, stride=2)\n",
        "        self.layer_decoder_8 = self.__get_encoder_layer(64 + 128, 64, kernel_size=3, stride=1, padding=1)\n",
        "        self.layer_decoder_9 = self.__get_encoder_layer(64, 1, kernel_size=3, stride=1, padding=1)\n",
        "        self.layer_10 = nn.Sequential(nn.Conv3d(1, 1,kernel_size=1, stride=1))\n",
        "        self.sigmoid = nn.Sigmoid()\n",
        "\n",
        "\n",
        "    def forward(self, x):\n",
        "\n",
        "        \n",
        "        # ----------encoder start----------\n",
        "\n",
        "        first_layer_encoder = self.layer_encoder_2(self.layer_encoder_1(x))\n",
        "        x = self.max_pool_1(first_layer_encoder)\n",
        "        \n",
        "        second_layer_encoder = self.layer_encoder_4(self.layer_encoder_3(x))\n",
        "        x = self.max_pool_2(second_layer_encoder)\n",
        "        third_layer_encoder = self.layer_encoder_6(self.layer_encoder_5(x))\n",
        "        \n",
        "        x = self.max_pool_3(third_layer_encoder)\n",
        "        x = self.layer_encoder_8(self.layer_encoder_7(x))\n",
        "        # ----------encoder end----------\n",
        "        \n",
        "        # ----------decoder start----------\n",
        "        x = self.layer_decoder_1(x)\n",
        "        third_layer_decoder = torch.cat((x, third_layer_encoder),1)\n",
        "        del third_layer_encoder\n",
        "        x = self.layer_decoder_3(self.layer_decoder_2(third_layer_decoder))\n",
        "        del third_layer_decoder\n",
        "\n",
        "        x = self.layer_decoder_4(x)\n",
        "        second_layer_decoder = torch.cat((x, second_layer_encoder),1)\n",
        "        del second_layer_encoder\n",
        "        x = self.layer_decoder_6(self.layer_decoder_5(second_layer_decoder))\n",
        "        del second_layer_decoder\n",
        "        \n",
        "        x = self.layer_decoder_7(x)\n",
        "        first_layer_decoder = torch.cat((x, first_layer_encoder),1)\n",
        "        del first_layer_encoder\n",
        "        x = self.layer_decoder_9(self.layer_decoder_8(first_layer_decoder))\n",
        "        del first_layer_decoder\n",
        "        # ----------edcoder end----------\n",
        "        x = self.layer_10(x)\n",
        "        # x = self.sigmoid(x)\n",
        "        return x\n",
        "    \n",
        "    def __get_encoder_layer(self, input_channel=1, output_channel=64, kernel_size=3, stride=1, padding=0, batch_norm=True, padding_mode='replicate'):\n",
        "        if batch_norm:\n",
        "            return nn.Sequential(nn.Conv3d(input_channel, output_channel,\n",
        "                                           kernel_size=kernel_size, stride=stride, padding=padding, padding_mode=padding_mode),\n",
        "                             nn.BatchNorm3d(output_channel),\n",
        "                             nn.ReLU())\n",
        "        return nn.Sequential(nn.Conv3d(input_channel, output_channel, kernel_size=kernel_size, stride=stride, padding=padding),\n",
        "                 nn.ReLU())\n",
        "    \n",
        "    def __get_decoder_layer(self, input_channel=1, output_channel=64, kernel_size=3, stride=1, padding=0):\n",
        "        return nn.Sequential(nn.ConvTranspose3d(input_channel, output_channel, kernel_size=kernel_size,\n",
        "                                                stride=stride, padding=padding),\n",
        "                             nn.ReLU())"
      ],
      "metadata": {
        "id": "BY6drznXtEvy"
      },
      "execution_count": null,
      "outputs": []
    },
    {
      "cell_type": "code",
      "source": [
        "class UNet3D_256(nn.Module):\n",
        "    def __init__(self):\n",
        "        super(UNet3D_256, self).__init__()\n",
        "        \n",
        "        self.layer_encoder_1 = self.__get_encoder_layer(1, 16, kernel_size=3, stride=1, padding=1)\n",
        "        self.layer_encoder_2 = self.__get_encoder_layer(16, 32, kernel_size=3, stride=1, padding=1)\n",
        "\n",
        "        self.layer_encoder_3 = self.__get_encoder_layer(32, 32, kernel_size=3, stride=1, padding=1)\n",
        "        self.layer_encoder_4 = self.__get_encoder_layer(32, 64, kernel_size=3, stride=1, padding=1)\n",
        "        \n",
        "        self.layer_encoder_5 = self.__get_encoder_layer(64, 64, kernel_size=3, stride=1, padding=1)\n",
        "        self.layer_encoder_6 = self.__get_encoder_layer(64, 128, kernel_size=3, stride=1, padding=1)\n",
        "        \n",
        "        self.layer_encoder_7 = self.__get_encoder_layer(128, 128, kernel_size=3, stride=1, padding=1)\n",
        "        self.layer_encoder_8 = self.__get_encoder_layer(128, 256, kernel_size=3, stride=1, padding=1)\n",
        "        \n",
        "        self.max_pool_1 = nn.MaxPool3d(2)\n",
        "        self.max_pool_2 = nn.MaxPool3d(2)\n",
        "        self.max_pool_3 = nn.MaxPool3d(2)\n",
        "        \n",
        "        self.layer_decoder_1 = self.__get_decoder_layer(256, 256, kernel_size=2, stride=2)\n",
        "        self.layer_decoder_2 = self.__get_encoder_layer(128 + 256, 128, kernel_size=3, stride=1, padding=1)\n",
        "        self.layer_decoder_3 = self.__get_encoder_layer(128, 128, kernel_size=3, stride=1, padding=1)\n",
        "        \n",
        "        self.layer_decoder_4 = self.__get_decoder_layer(128, 128, kernel_size=2, stride=2)\n",
        "        self.layer_decoder_5 = self.__get_encoder_layer(64 + 128, 64, kernel_size=3, stride=1, padding=1)\n",
        "        self.layer_decoder_6 = self.__get_encoder_layer(64, 64, kernel_size=3, stride=1, padding=1)\n",
        "        \n",
        "        self.layer_decoder_7 = self.__get_decoder_layer(64, 64, kernel_size=2, stride=2)\n",
        "        self.layer_decoder_8 = self.__get_encoder_layer(32 + 64, 32, kernel_size=3, stride=1, padding=1)\n",
        "        self.layer_decoder_9 = self.__get_encoder_layer(32, 1, kernel_size=3, stride=1, padding=1)\n",
        "        self.layer_10 = nn.Sequential(nn.Conv3d(1, 1,kernel_size=1, stride=1))\n",
        "        self.sigmoid = nn.Sigmoid()\n",
        "\n",
        "\n",
        "    def forward(self, x):\n",
        "        # ----------encoder start----------\n",
        "\n",
        "        first_layer_encoder = self.layer_encoder_2(self.layer_encoder_1(x))\n",
        "        x = self.max_pool_1(first_layer_encoder)\n",
        "        \n",
        "        second_layer_encoder = self.layer_encoder_4(self.layer_encoder_3(x))\n",
        "        x = self.max_pool_2(second_layer_encoder)\n",
        "        third_layer_encoder = self.layer_encoder_6(self.layer_encoder_5(x))\n",
        "        \n",
        "        x = self.max_pool_3(third_layer_encoder)\n",
        "        x = self.layer_encoder_8(self.layer_encoder_7(x))\n",
        "        # ----------encoder end----------\n",
        "        \n",
        "        # ----------decoder start----------\n",
        "        x = self.layer_decoder_1(x)\n",
        "        third_layer_decoder = torch.cat((x, third_layer_encoder),1)\n",
        "        del third_layer_encoder\n",
        "        x = self.layer_decoder_3(self.layer_decoder_2(third_layer_decoder))\n",
        "        del third_layer_decoder\n",
        "\n",
        "        x = self.layer_decoder_4(x)\n",
        "        second_layer_decoder = torch.cat((x, second_layer_encoder),1)\n",
        "        del second_layer_encoder\n",
        "        x = self.layer_decoder_6(self.layer_decoder_5(second_layer_decoder))\n",
        "        del second_layer_decoder\n",
        "        \n",
        "        x = self.layer_decoder_7(x)\n",
        "        first_layer_decoder = torch.cat((x, first_layer_encoder),1)\n",
        "        del first_layer_encoder\n",
        "        x = self.layer_decoder_9(self.layer_decoder_8(first_layer_decoder))\n",
        "        del first_layer_decoder\n",
        "        # ----------edcoder end----------\n",
        "        x = self.layer_10(x)\n",
        "        # x = self.sigmoid(x)\n",
        "        return x\n",
        "    \n",
        "    def __get_encoder_layer(self, input_channel=1, output_channel=64, kernel_size=3, stride=1, padding=0, batch_norm=True, padding_mode='replicate'):\n",
        "        if batch_norm:\n",
        "            return nn.Sequential(nn.Conv3d(input_channel, output_channel,\n",
        "                                           kernel_size=kernel_size, stride=stride, padding=padding, padding_mode=padding_mode),\n",
        "                             nn.BatchNorm3d(output_channel),\n",
        "                             nn.ReLU())\n",
        "        return nn.Sequential(nn.Conv3d(input_channel, output_channel, kernel_size=kernel_size, stride=stride, padding=padding),\n",
        "                 nn.ReLU())\n",
        "    \n",
        "    def __get_decoder_layer(self, input_channel=1, output_channel=64, kernel_size=3, stride=1, padding=0):\n",
        "        return nn.Sequential(nn.ConvTranspose3d(input_channel, output_channel, kernel_size=kernel_size,\n",
        "                                                stride=stride, padding=padding))"
      ],
      "metadata": {
        "id": "oRuUBk8QX-wG"
      },
      "execution_count": null,
      "outputs": []
    },
    {
      "cell_type": "code",
      "source": [
        "class FocalLoss(nn.Module):\n",
        "    def __init__(self, alpha=1, gamma=2):\n",
        "        super(FocalLoss, self).__init__()\n",
        "        self.alpha = alpha\n",
        "        self.gamma = gamma\n",
        "\n",
        "    def forward(self, inputs, targets):\n",
        "        bce_loss = F.binary_cross_entropy(inputs,  targets.float())\n",
        "        # loss = torch.pow(torch.sub(1, torch.exp(-bce_loss)), self.gamma)\n",
        "        # loss = torch.mul(loss, bce_loss)\n",
        "        # loss = torch.mul(loss, self.alpha)\n",
        "        loss = self.alpha * (1 - torch.exp(-bce_loss)) ** self.gamma * bce_loss\n",
        "        return loss"
      ],
      "metadata": {
        "id": "TZ2xd6eQBvrE"
      },
      "execution_count": null,
      "outputs": []
    },
    {
      "cell_type": "code",
      "source": [
        "class DiceBCELoss(nn.Module):\n",
        "    def __init__(self, weight=None, size_average=True):\n",
        "        super(DiceBCELoss, self).__init__()\n",
        "\n",
        "    def forward(self, inputs, targets, smooth=1):\n",
        "        \n",
        "        #comment out if your model contains a sigmoid or equivalent activation layer\n",
        "        inputs = torch.sigmoid(inputs)       \n",
        "        \n",
        "        #flatten label and prediction tensors\n",
        "        inputs = inputs.view(-1)\n",
        "        targets = targets.view(-1)\n",
        "        \n",
        "        intersection = (inputs * targets).sum()                            \n",
        "        dice_loss = 1 - (2.*intersection + smooth)/(inputs.sum() + targets.sum() + smooth)  \n",
        "        BCE = F.binary_cross_entropy(inputs, targets)\n",
        "        Dice_BCE = BCE + dice_loss\n",
        "        \n",
        "        return Dice_BCE"
      ],
      "metadata": {
        "id": "AmIQK9e2jdaB"
      },
      "execution_count": null,
      "outputs": []
    },
    {
      "cell_type": "code",
      "source": [
        "def my_dice_score(y_pred, y, smooth=1):\n",
        "    intersection = (y_pred * y).sum() \n",
        "    score = 1 - (2.*intersection + smooth)/(y_pred.sum() + y.sum() + smooth)\n",
        "    return score"
      ],
      "metadata": {
        "id": "R6mVppMhKRHF"
      },
      "execution_count": null,
      "outputs": []
    },
    {
      "cell_type": "code",
      "execution_count": null,
      "metadata": {
        "id": "ME3xdhXjqz8c"
      },
      "outputs": [],
      "source": [
        "class LitModel(pl.LightningModule):\n",
        "    def __init__(self, model):\n",
        "        super().__init__()\n",
        "        self.model = model\n",
        "        self.loss = DiceBCELoss()\n",
        "        self.dice = my_dice_score\n",
        "\n",
        "    def forward(self, x):\n",
        "        y_pred = self.model(x)\n",
        "        return y_pred\n",
        "    \n",
        "    def configure_optimizers(self):\n",
        "        optimizer = optim.Adam(self.model.parameters())\n",
        "        return optimizer\n",
        "    \n",
        "    def get_metrics(self, y_pred, y, metrics_type=\"train\"):\n",
        "        y = y.type(torch.IntTensor)\n",
        "        y = y.view(-1).to('cuda')\n",
        "        y_pred = y_pred.view(-1).to('cuda')\n",
        "        \n",
        "        # acc = self.iou(y_pred, y)\n",
        "        dice = self.dice(y_pred, y)\n",
        "\n",
        "        # self.log(f'acc/{metrics_type}', acc)\n",
        "        self.log(f'dice/ {metrics_type}', dice)\n",
        "    \n",
        "    def training_step(self, batch, batch_idx):\n",
        "        x, y = batch\n",
        "        \n",
        "        y_pred = self.forward(x)\n",
        "        loss = self.loss(y_pred, y)\n",
        "        # self.get_metrics(y_pred, y, \"train\")\n",
        "        return loss\n",
        "    \n",
        "    def validation_step(self, val_batch, batch_idx):\n",
        "        x, y = val_batch\n",
        "\n",
        "        y_pred = self.forward(x)\n",
        "        loss = self.loss(y_pred, y)\n",
        "        # self.get_metrics(y_pred, y, \"val\")\n",
        "        return loss"
      ]
    },
    {
      "cell_type": "code",
      "source": [
        "model = UNet3D_256()\n",
        "\n",
        "unet_model = LitModel(model)\n",
        "trainer_unet_model = pl.Trainer(max_epochs=10, accelerator='gpu')\n",
        "trainer_unet_model.fit(unet_model, trainloader)"
      ],
      "metadata": {
        "colab": {
          "base_uri": "https://localhost:8080/",
          "height": 381,
          "referenced_widgets": [
            "3e010937b8cc45ca83f623e7a391516f",
            "2b513e08a46e45049a036832060f7dab",
            "dc239ac714234e17862d9e1760b38186",
            "fb7aedb6b89b41ee8f8ed3adf05026a6",
            "a1406cbec8da48c9a813c4e4213c1a45",
            "3becf6b80cea49fab307b95f98cb1e5f",
            "22b636903a0f4e088d3801c7e44bf916",
            "6c8ca3de214346028eae91d777a90540",
            "3ebcf99208b84f6c9b3d3e8c92ce533c",
            "021a3fb394094937bc34557f793d7b3a",
            "7aecbf8f75d4407b9b050e5deb48c198"
          ]
        },
        "id": "NWambnqGtUq1",
        "outputId": "27dd3094-c235-48c3-8f18-221abb90ede6"
      },
      "execution_count": null,
      "outputs": [
        {
          "output_type": "stream",
          "name": "stderr",
          "text": [
            "INFO:pytorch_lightning.utilities.rank_zero:GPU available: True (cuda), used: True\n",
            "INFO:pytorch_lightning.utilities.rank_zero:TPU available: False, using: 0 TPU cores\n",
            "INFO:pytorch_lightning.utilities.rank_zero:IPU available: False, using: 0 IPUs\n",
            "INFO:pytorch_lightning.utilities.rank_zero:HPU available: False, using: 0 HPUs\n",
            "/usr/local/lib/python3.7/dist-packages/pytorch_lightning/trainer/configuration_validator.py:110: PossibleUserWarning: You defined a `validation_step` but have no `val_dataloader`. Skipping val loop.\n",
            "  category=PossibleUserWarning,\n",
            "INFO:pytorch_lightning.accelerators.cuda:LOCAL_RANK: 0 - CUDA_VISIBLE_DEVICES: [0]\n",
            "INFO:pytorch_lightning.callbacks.model_summary:\n",
            "  | Name  | Type        | Params\n",
            "--------------------------------------\n",
            "0 | model | UNet3D_256  | 4.7 M \n",
            "1 | loss  | DiceBCELoss | 0     \n",
            "--------------------------------------\n",
            "4.7 M     Trainable params\n",
            "0         Non-trainable params\n",
            "4.7 M     Total params\n",
            "18.975    Total estimated model params size (MB)\n"
          ]
        },
        {
          "output_type": "display_data",
          "data": {
            "text/plain": [
              "Training: 0it [00:00, ?it/s]"
            ],
            "application/vnd.jupyter.widget-view+json": {
              "version_major": 2,
              "version_minor": 0,
              "model_id": "3e010937b8cc45ca83f623e7a391516f"
            }
          },
          "metadata": {}
        },
        {
          "output_type": "stream",
          "name": "stderr",
          "text": [
            "INFO:pytorch_lightning.utilities.rank_zero:`Trainer.fit` stopped: `max_epochs=10` reached.\n"
          ]
        }
      ]
    },
    {
      "cell_type": "code",
      "source": [
        "X,Y = next(iter(trainloader))"
      ],
      "metadata": {
        "id": "MHQxO8EoeB1y"
      },
      "execution_count": null,
      "outputs": []
    },
    {
      "cell_type": "code",
      "source": [
        "res = unet_model.model(X)"
      ],
      "metadata": {
        "id": "j0eEGZbTeH3p"
      },
      "execution_count": null,
      "outputs": []
    },
    {
      "cell_type": "code",
      "source": [
        "res"
      ],
      "metadata": {
        "id": "c6ugmVuamAoD",
        "colab": {
          "base_uri": "https://localhost:8080/"
        },
        "outputId": "4aff2efb-234c-4153-96de-1a8b2cee5974"
      },
      "execution_count": null,
      "outputs": [
        {
          "output_type": "execute_result",
          "data": {
            "text/plain": [
              "tensor([[[[[-2.8689, -2.8866, -2.9428,  ..., -3.2239, -3.1898, -3.1714],\n",
              "           [-2.8867, -2.9044, -2.9586,  ..., -3.2414, -3.2080, -3.1899],\n",
              "           [-2.8178, -2.8351, -2.8871,  ..., -3.2001, -3.1678, -3.1504],\n",
              "           ...,\n",
              "           [-3.1868, -3.2015, -3.2609,  ..., -3.1101, -3.0634, -3.0446],\n",
              "           [-3.0830, -3.1029, -3.1640,  ..., -3.0183, -2.9706, -2.9516],\n",
              "           [-3.0295, -3.0518, -3.1122,  ..., -2.9710, -2.9227, -2.9035]],\n",
              "\n",
              "          [[-2.8882, -2.9052, -2.9615,  ..., -3.2503, -3.2153, -3.1955],\n",
              "           [-2.9027, -2.9202, -2.9747,  ..., -3.2648, -3.2304, -3.2105],\n",
              "           [-2.8312, -2.8490, -2.9024,  ..., -3.2227, -3.1908, -3.1712],\n",
              "           ...,\n",
              "           [-3.1941, -3.2075, -3.2706,  ..., -3.1256, -3.0773, -3.0562],\n",
              "           [-3.0874, -3.1067, -3.1725,  ..., -3.0306, -2.9814, -2.9598],\n",
              "           [-3.0320, -3.0536, -3.1187,  ..., -2.9810, -2.9304, -2.9093]],\n",
              "\n",
              "          [[-2.8984, -2.9168, -2.9737,  ..., -3.2766, -3.2420, -3.2190],\n",
              "           [-2.9096, -2.9297, -2.9855,  ..., -3.2897, -3.2548, -3.2326],\n",
              "           [-2.8335, -2.8548, -2.9112,  ..., -3.2475, -3.2159, -3.1940],\n",
              "           ...,\n",
              "           [-3.1941, -3.2057, -3.2683,  ..., -3.1440, -3.0946, -3.0707],\n",
              "           [-3.0888, -3.1056, -3.1717,  ..., -3.0497, -2.9993, -2.9754],\n",
              "           [-3.0307, -3.0501, -3.1168,  ..., -2.9985, -2.9474, -2.9234]],\n",
              "\n",
              "          ...,\n",
              "\n",
              "          [[-2.3286, -2.3412, -2.3721,  ..., -2.9654, -2.9480, -2.9343],\n",
              "           [-2.1613, -2.1747, -2.2192,  ..., -2.9932, -2.9742, -2.9566],\n",
              "           [-1.7920, -1.8013, -1.8273,  ..., -2.9626, -2.9378, -2.9147],\n",
              "           ...,\n",
              "           [-3.2228, -3.2053, -3.1964,  ..., -3.4234, -3.3818, -3.3503],\n",
              "           [-3.1130, -3.0953, -3.0866,  ..., -3.3072, -3.2630, -3.2324],\n",
              "           [-3.0520, -3.0342, -3.0252,  ..., -3.2411, -3.1958, -3.1665]],\n",
              "\n",
              "          [[-2.3251, -2.3329, -2.3695,  ..., -3.0554, -3.0390, -3.0263],\n",
              "           [-2.1535, -2.1645, -2.2167,  ..., -3.0803, -3.0634, -3.0485],\n",
              "           [-1.7808, -1.7895, -1.8219,  ..., -3.0450, -3.0265, -3.0055],\n",
              "           ...,\n",
              "           [-3.2268, -3.2068, -3.1934,  ..., -3.4281, -3.3886, -3.3587],\n",
              "           [-3.1169, -3.0965, -3.0831,  ..., -3.3152, -3.2742, -3.2440],\n",
              "           [-3.0544, -3.0336, -3.0207,  ..., -3.2495, -3.2077, -3.1783]],\n",
              "\n",
              "          [[-2.3240, -2.3281, -2.3683,  ..., -3.0884, -3.0706, -3.0583],\n",
              "           [-2.1449, -2.1530, -2.2101,  ..., -3.1098, -3.0945, -3.0791],\n",
              "           [-1.7707, -1.7788, -1.8154,  ..., -3.0759, -3.0589, -3.0393],\n",
              "           ...,\n",
              "           [-3.2400, -3.2169, -3.2013,  ..., -3.4386, -3.4015, -3.3701],\n",
              "           [-3.1277, -3.1041, -3.0874,  ..., -3.3257, -3.2856, -3.2552],\n",
              "           [-3.0624, -3.0379, -3.0214,  ..., -3.2577, -3.2171, -3.1866]]]]],\n",
              "       grad_fn=<ConvolutionBackward0>)"
            ]
          },
          "metadata": {},
          "execution_count": 47
        }
      ]
    },
    {
      "cell_type": "code",
      "source": [
        "torch.sigmoid(res).detach().numpy()[0][0][id, :, :]"
      ],
      "metadata": {
        "colab": {
          "base_uri": "https://localhost:8080/"
        },
        "id": "YexeviVWOuUX",
        "outputId": "e714d5ed-5b38-49dd-cfa0-300644b5b4d2"
      },
      "execution_count": null,
      "outputs": [
        {
          "output_type": "execute_result",
          "data": {
            "text/plain": [
              "array([[0.06063475, 0.05882921, 0.05491796, ..., 0.03280749, 0.03314257,\n",
              "        0.03349965],\n",
              "       [0.06065649, 0.05903982, 0.05534594, ..., 0.03270706, 0.03319123,\n",
              "        0.03357303],\n",
              "       [0.06967035, 0.06826659, 0.06435896, ..., 0.0345798 , 0.03514921,\n",
              "        0.03562225],\n",
              "       ...,\n",
              "       [0.0376101 , 0.03725675, 0.03684727, ..., 0.03718204, 0.0375938 ,\n",
              "        0.03809598],\n",
              "       [0.04109332, 0.04066078, 0.04025769, ..., 0.04092924, 0.04158649,\n",
              "        0.04226479],\n",
              "       [0.04318981, 0.0427081 , 0.04231519, ..., 0.04310718, 0.04397572,\n",
              "        0.04484093]], dtype=float32)"
            ]
          },
          "metadata": {},
          "execution_count": 56
        }
      ]
    },
    {
      "cell_type": "code",
      "source": [
        "id = 0\n",
        "fig, (ax1, ax2, ax3) = plt.subplots(1, 3,figsize=(32, 18))\n",
        "ax1.imshow((torch.sigmoid(res)).detach().numpy()[0][0][id, :, :])\n",
        "ax2.imshow(Y[0][0][id, :, :])\n",
        "ax3.imshow(X[0][0][id, :, :])"
      ],
      "metadata": {
        "colab": {
          "base_uri": "https://localhost:8080/",
          "height": 467
        },
        "id": "-VjSDSbTlm5Q",
        "outputId": "1490381c-45e1-4a93-9061-2a62c5f89727"
      },
      "execution_count": null,
      "outputs": [
        {
          "output_type": "execute_result",
          "data": {
            "text/plain": [
              "<matplotlib.image.AxesImage at 0x7f83cf746ed0>"
            ]
          },
          "metadata": {},
          "execution_count": 68
        },
        {
          "output_type": "display_data",
          "data": {
            "text/plain": [
              "<Figure size 2304x1296 with 3 Axes>"
            ],
            "image/png": "[encoded data removed]"
          },
          "metadata": {
            "needs_background": "light"
          }
        }
      ]
    },
    {
      "cell_type": "code",
      "source": [
        "# (res == 0.5).sum()"
      ],
      "metadata": {
        "id": "ba2fUvB2eU98"
      },
      "execution_count": null,
      "outputs": []
    },
    {
      "cell_type": "code",
      "source": [
        "# (res != 0.5).sum()"
      ],
      "metadata": {
        "id": "yxunNEHqjTjf"
      },
      "execution_count": null,
      "outputs": []
    },
    {
      "cell_type": "code",
      "source": [
        "# next(iter(trainloader))[1].sum()"
      ],
      "metadata": {
        "id": "xBMwNg2CeexY"
      },
      "execution_count": null,
      "outputs": []
    }
  ]
}